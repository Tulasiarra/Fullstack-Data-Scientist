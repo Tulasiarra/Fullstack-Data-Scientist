{
 "cells": [
  {
   "cell_type": "code",
   "execution_count": 1,
   "id": "b393eb8d",
   "metadata": {},
   "outputs": [
    {
     "name": "stdout",
     "output_type": "stream",
     "text": [
      "Text files: 2\n",
      "Python files: 2\n"
     ]
    }
   ],
   "source": [
    "import statistics, math, random\n",
    "def count_files(files):\n",
    "    txt_count = sum(1 for f in files if f.endswith(\".txt\"))\n",
    "    py_count = sum(1 for f in files if f.endswith(\".py\"))\n",
    "    return txt_count, py_count\n",
    "files = [\"notes.txt\", \"app.py\", \"data.csv\", \"report.txt\", \"main.py\"]\n",
    "txt, py = count_files(files)\n",
    "print(\"Text files:\", txt)\n",
    "print(\"Python files:\", py)\n",
    "\n"
   ]
  },
  {
   "cell_type": "code",
   "execution_count": 2,
   "id": "406aaf5f",
   "metadata": {},
   "outputs": [
    {
     "name": "stdout",
     "output_type": "stream",
     "text": [
      "Mean = 87.86\n",
      "Median = 90\n",
      "Variance = 73.81\n"
     ]
    }
   ],
   "source": [
    "scores = [75, 80, 90, 100, 85, 90, 95]\n",
    "print(\"Mean =\", round(statistics.mean(scores), 2))\n",
    "print(\"Median =\", statistics.median(scores))\n",
    "print(\"Variance =\", round(statistics.variance(scores), 2))"
   ]
  },
  {
   "cell_type": "code",
   "execution_count": 3,
   "id": "56d7ad9f",
   "metadata": {},
   "outputs": [
    {
     "name": "stdout",
     "output_type": "stream",
     "text": [
      "Roots are: 2.0 and 1.0\n"
     ]
    }
   ],
   "source": [
    "def solve_quadratic(a, b, c):\n",
    "    d = b**2 - 4*a*c\n",
    "    if d < 0:\n",
    "        return \"No Real Roots\"\n",
    "    root1 = (-b + math.sqrt(d)) / (2*a)\n",
    "    root2 = (-b - math.sqrt(d)) / (2*a)\n",
    "    return f\"Roots are: {root1} and {root2}\"\n",
    "print(solve_quadratic(1, -3, 2))   "
   ]
  },
  {
   "cell_type": "code",
   "execution_count": 4,
   "id": "9b19c79e",
   "metadata": {},
   "outputs": [
    {
     "name": "stdout",
     "output_type": "stream",
     "text": [
      "You chose Rock, Computer chose Paper\n",
      "You Lose!\n"
     ]
    }
   ],
   "source": [
    "def rps(user_choice):\n",
    "    options = [\"Rock\", \"Paper\", \"Scissors\"]\n",
    "    comp = random.choice(options)\n",
    "    print(f\"You chose {user_choice}, Computer chose {comp}\")\n",
    "    if user_choice == comp:\n",
    "        return \"It's a Tie!\"\n",
    "    elif (user_choice == \"Rock\" and comp == \"Scissors\") or \\\n",
    "         (user_choice == \"Paper\" and comp == \"Rock\") or \\\n",
    "         (user_choice == \"Scissors\" and comp == \"Paper\"):\n",
    "        return \"You Win!\"\n",
    "    else:\n",
    "        return \"You Lose!\"\n",
    "print(rps(\"Rock\"))\n"
   ]
  },
  {
   "cell_type": "code",
   "execution_count": 5,
   "id": "1fb87a0a",
   "metadata": {},
   "outputs": [
    {
     "name": "stdout",
     "output_type": "stream",
     "text": [
      "Sum = 30\n"
     ]
    }
   ],
   "source": [
    "def sum_from_args(args):\n",
    "    nums = list(map(int, args))\n",
    "    return f\"Sum = {sum(nums)}\"\n",
    "print(sum_from_args([5, 10, 15]))   "
   ]
  }
 ],
 "metadata": {
  "kernelspec": {
   "display_name": "Python 3",
   "language": "python",
   "name": "python3"
  },
  "language_info": {
   "codemirror_mode": {
    "name": "ipython",
    "version": 3
   },
   "file_extension": ".py",
   "mimetype": "text/x-python",
   "name": "python",
   "nbconvert_exporter": "python",
   "pygments_lexer": "ipython3",
   "version": "3.11.0"
  }
 },
 "nbformat": 4,
 "nbformat_minor": 5
}
