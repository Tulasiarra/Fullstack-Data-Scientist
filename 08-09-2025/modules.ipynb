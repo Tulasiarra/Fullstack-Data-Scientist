{
 "cells": [
  {
   "cell_type": "code",
   "execution_count": 1,
   "id": "e766b74c",
   "metadata": {},
   "outputs": [
    {
     "name": "stdout",
     "output_type": "stream",
     "text": [
      "g7sG=i\n"
     ]
    }
   ],
   "source": [
    "import random, string\n",
    "def generate_password(length):\n",
    "    chars = string.ascii_letters + string.digits + string.punctuation\n",
    "    return ''.join(random.choice(chars) for _ in range(length))\n",
    "l=int(input())\n",
    "print(generate_password(l)) "
   ]
  },
  {
   "cell_type": "code",
   "execution_count": null,
   "id": "29912783",
   "metadata": {},
   "outputs": [],
   "source": []
  },
  {
   "cell_type": "code",
   "execution_count": 2,
   "id": "cbfc3c58",
   "metadata": {},
   "outputs": [
    {
     "name": "stdout",
     "output_type": "stream",
     "text": [
      "2.23606797749979\n",
      "120\n",
      "0.08715574274765817\n",
      "0.9961946980917455\n"
     ]
    }
   ],
   "source": [
    "import math\n",
    "n=int(input())\n",
    "print(math.sqrt(n))\n",
    "print(math.factorial(n)) \n",
    "print(math.sin(math.radians(n))) \n",
    "print(math.cos(math.radians(n))) "
   ]
  },
  {
   "cell_type": "code",
   "execution_count": 3,
   "id": "780d1df3",
   "metadata": {},
   "outputs": [
    {
     "name": "stdout",
     "output_type": "stream",
     "text": [
      "{'cat': 2, 'dog': 1}\n"
     ]
    }
   ],
   "source": [
    "from collections import Counter\n",
    "\n",
    "def word_freq(text):\n",
    "    words = text.split()\n",
    "    return dict(Counter(words))\n",
    "s=input()\n",
    "print(word_freq(s))"
   ]
  },
  {
   "cell_type": "code",
   "execution_count": 4,
   "id": "1a6e9c68",
   "metadata": {},
   "outputs": [
    {
     "name": "stdout",
     "output_type": "stream",
     "text": [
      "Weather: Sunny, Temp: 24°C\n"
     ]
    }
   ],
   "source": [
    "import random\n",
    "def simulate_weather():\n",
    "    weather = random.choice([\"Sunny\", \"Rainy\", \"Cloudy\", \"Windy\"])\n",
    "    temp = random.randint(20, 40)\n",
    "    print(f\"Weather: {weather}, Temp: {temp}°C\")\n",
    "simulate_weather()"
   ]
  },
  {
   "cell_type": "code",
   "execution_count": 5,
   "id": "b2b9e235",
   "metadata": {},
   "outputs": [
    {
     "name": "stdout",
     "output_type": "stream",
     "text": [
      "5\n",
      "4\n",
      "3\n",
      "2\n",
      "1\n",
      "Time’s up!\n"
     ]
    }
   ],
   "source": [
    "import time\n",
    "def countdown(n):\n",
    "    while n > 0:\n",
    "        print(n)\n",
    "        time.sleep(1)\n",
    "        n -= 1\n",
    "    print(\"Time’s up!\")\n",
    "s=int(input())\n",
    "countdown(s)\n"
   ]
  }
 ],
 "metadata": {
  "kernelspec": {
   "display_name": "Python 3",
   "language": "python",
   "name": "python3"
  },
  "language_info": {
   "codemirror_mode": {
    "name": "ipython",
    "version": 3
   },
   "file_extension": ".py",
   "mimetype": "text/x-python",
   "name": "python",
   "nbconvert_exporter": "python",
   "pygments_lexer": "ipython3",
   "version": "3.11.0"
  }
 },
 "nbformat": 4,
 "nbformat_minor": 5
}
