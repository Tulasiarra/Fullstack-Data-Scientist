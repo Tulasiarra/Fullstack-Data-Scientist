{
 "cells": [
  {
   "cell_type": "code",
   "execution_count": null,
   "id": "5ffcd4c8",
   "metadata": {},
   "outputs": [
    {
     "name": "stdout",
     "output_type": "stream",
     "text": [
      "[2, 3, 5, 7, 11, 13, 17, 19]\n"
     ]
    }
   ],
   "source": [
    "def primes(n):\n",
    "    primes = []\n",
    "    for num in range(2, n + 1):\n",
    "        is_prime = True\n",
    "        for i in range(2, int(num ** 0.5) + 1):\n",
    "            if num % i == 0:\n",
    "                is_prime = False\n",
    "                break\n",
    "        if is_prime:\n",
    "            primes.append(num)\n",
    "    return primes\n",
    "n = 20\n",
    "print(primes(n))  "
   ]
  },
  {
   "cell_type": "code",
   "execution_count": 3,
   "id": "7b168aff",
   "metadata": {},
   "outputs": [
    {
     "name": "stdout",
     "output_type": "stream",
     "text": [
      "True\n"
     ]
    }
   ],
   "source": [
    "def is_palindrome(s):\n",
    "    cleaned = s.replace(\" \", \"\").lower()\n",
    "    return cleaned == cleaned[::-1]\n",
    "input_str =input()\n",
    "print(is_palindrome(input_str))"
   ]
  },
  {
   "cell_type": "code",
   "execution_count": 6,
   "id": "6c37fbfe",
   "metadata": {},
   "outputs": [
    {
     "name": "stdout",
     "output_type": "stream",
     "text": [
      "True\n"
     ]
    }
   ],
   "source": [
    "def is_anagram(word1, word2):\n",
    "    w1 = word1.replace(\" \", \"\").lower()\n",
    "    w2 = word2.replace(\" \", \"\").lower()\n",
    "    return sorted(w1) == sorted(w2)\n",
    "a=input()\n",
    "b=input()\n",
    "print(is_anagram(a,b)) "
   ]
  },
  {
   "cell_type": "code",
   "execution_count": 7,
   "id": "b86c022e",
   "metadata": {},
   "outputs": [
    {
     "name": "stdout",
     "output_type": "stream",
     "text": [
      "Vowels=2, Consonants=3\n"
     ]
    }
   ],
   "source": [
    "def count_vc(s):\n",
    "    vowels = \"aeiouAEIOU\"\n",
    "    v_count = 0\n",
    "    c_count = 0\n",
    "    for char in s:\n",
    "        if char.isalpha():\n",
    "            if char in vowels:\n",
    "                v_count += 1\n",
    "            else:\n",
    "                c_count += 1\n",
    "    return f\"Vowels={v_count}, Consonants={c_count}\"\n",
    "str=input()\n",
    "print(count_vc(str))"
   ]
  },
  {
   "cell_type": "code",
   "execution_count": 8,
   "id": "b7319858",
   "metadata": {},
   "outputs": [
    {
     "name": "stdout",
     "output_type": "stream",
     "text": [
      "amazing\n"
     ]
    }
   ],
   "source": [
    "def longest_word(sentence):\n",
    "    words = sentence.split()\n",
    "    return max(words, key=len)\n",
    "s=input()\n",
    "print(longest_word(s))"
   ]
  }
 ],
 "metadata": {
  "kernelspec": {
   "display_name": "Python 3",
   "language": "python",
   "name": "python3"
  },
  "language_info": {
   "codemirror_mode": {
    "name": "ipython",
    "version": 3
   },
   "file_extension": ".py",
   "mimetype": "text/x-python",
   "name": "python",
   "nbconvert_exporter": "python",
   "pygments_lexer": "ipython3",
   "version": "3.11.0"
  }
 },
 "nbformat": 4,
 "nbformat_minor": 5
}
