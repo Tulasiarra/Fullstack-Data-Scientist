{
 "cells": [
  {
   "cell_type": "code",
   "execution_count": 2,
   "id": "21884df0",
   "metadata": {},
   "outputs": [
    {
     "name": "stdout",
     "output_type": "stream",
     "text": [
      "Total Bill = 310\n"
     ]
    }
   ],
   "source": [
    "\n",
    "item1_price = int(input())\n",
    "item1_quantity = int(input())\n",
    "item2_price = int(input())\n",
    "item2_quantity = int(input())\n",
    "item3_price =int(input())\n",
    "item3_quantity = int(input())\n",
    "total_bill = (item1_price * item1_quantity) + \\\n",
    "             (item2_price * item2_quantity) + \\\n",
    "             (item3_price * item3_quantity)\n",
    "print(\"Total Bill =\", total_bill)\n"
   ]
  },
  {
   "cell_type": "code",
   "execution_count": 4,
   "id": "93a7a605",
   "metadata": {},
   "outputs": [
    {
     "name": "stdout",
     "output_type": "stream",
     "text": [
      "Addition= 6\n",
      "subtraction= -2\n",
      "Multiplication= 8\n",
      "Division= 0.5\n"
     ]
    }
   ],
   "source": [
    "a=int(input(\"enter first number:\"))\n",
    "b=int(input(\"enter second number:\"))\n",
    "print(\"Addition=\",a+b)\n",
    "print(\"subtraction=\",a-b)\n",
    "print(\"Multiplication=\",a*b)\n",
    "print(\"Division=\",a/b)\n",
    "            "
   ]
  },
  {
   "cell_type": "code",
   "execution_count": 9,
   "id": "48403498",
   "metadata": {},
   "outputs": [
    {
     "name": "stdout",
     "output_type": "stream",
     "text": [
      "C\n"
     ]
    }
   ],
   "source": [
    "n=int(input(\"Enter marks:\"))\n",
    "if (n>=90):\n",
    "    print(\"A+\")\n",
    "if(n>79 and n<90):\n",
    "    print(\"A\")\n",
    "if(n>69 and n<80):\n",
    "    print(\"B\")\n",
    "if(n>59 and n<70):\n",
    "    print(\"C\")\n",
    "if(n<60):\n",
    "    print(\"Fail\")"
   ]
  },
  {
   "cell_type": "code",
   "execution_count": 10,
   "id": "4cb249fe",
   "metadata": {},
   "outputs": [
    {
     "name": "stdout",
     "output_type": "stream",
     "text": [
      "Highest Marks= 90\n",
      "Lowest Marks= 45\n",
      "Average marks= 71.4\n"
     ]
    }
   ],
   "source": [
    "m=[45, 78, 88, 56, 90]\n",
    "print(\"Highest Marks=\",max(m))\n",
    "print(\"Lowest Marks=\",min(m))\n",
    "c=sum(m)/len(m)\n",
    "print(\"Average marks=\",c)"
   ]
  },
  {
   "cell_type": "code",
   "execution_count": 13,
   "id": "df036a65",
   "metadata": {},
   "outputs": [
    {
     "name": "stdout",
     "output_type": "stream",
     "text": [
      "Phone Number of ravi= 9123456780\n"
     ]
    }
   ],
   "source": [
    "p= {\"Suhel\": 9876543210, \"Ravi\": 9123456780, \"Anita\": 9988776655}\n",
    "print(\"Phone Number of ravi=\",p[\"Ravi\"])"
   ]
  },
  {
   "cell_type": "code",
   "execution_count": null,
   "id": "cf6727fe",
   "metadata": {},
   "outputs": [
    {
     "name": "stdout",
     "output_type": "stream",
     "text": [
      "Total Words= 3\n",
      "Total Characters= 17\n",
      "Vowels= 6\n"
     ]
    }
   ],
   "source": [
    "a=input(\"enter a sentence:\")\n",
    "b=a.split()\n",
    "print(\"Total Words=\",len(b))\n",
    "print(\"Total Characters=\",len(a))\n",
    "v=\"aeiouAEIOU\"\n",
    "print(\"Vowels=\",sum(1 for char in a if char in v))"
   ]
  },
  {
   "cell_type": "code",
   "execution_count": 16,
   "id": "3761138a",
   "metadata": {},
   "outputs": [
    {
     "name": "stdout",
     "output_type": "stream",
     "text": [
      "Compound Interest = 512.50\n",
      "Total Amount = 5512.50\n"
     ]
    }
   ],
   "source": [
    "\n",
    "principal = float(input(\"Principal = \"))\n",
    "rate = float(input(\"Rate (in %) = \"))\n",
    "time = float(input(\"Time (in years) = \"))\n",
    "interest_type = input(\"Interest Type (Simple/Compound) = \").strip().lower()\n",
    "if interest_type == \"simple\":\n",
    "    interest = (principal * rate * time) / 100\n",
    "    total_amount = principal + interest\n",
    "    print(f\"Simple Interest = {interest:.2f}\")\n",
    "    print(f\"Total Amount = {total_amount:.2f}\")\n",
    "elif interest_type == \"compound\":\n",
    "    total_amount = principal * (1 + rate/100) ** time\n",
    "    interest = total_amount - principal\n",
    "    print(f\"Compound Interest = {interest:.2f}\")\n",
    "    print(f\"Total Amount = {total_amount:.2f}\")\n",
    "else:\n",
    "    print(\"Invalid Interest Type. Please enter 'Simple' or 'Compound'.\")\n"
   ]
  },
  {
   "cell_type": "code",
   "execution_count": 20,
   "id": "d17eca17",
   "metadata": {},
   "outputs": [
    {
     "name": "stdout",
     "output_type": "stream",
     "text": [
      "Encrypted Message: KHOOR\n"
     ]
    }
   ],
   "source": [
    "\n",
    "message = input(\"Message = \")\n",
    "shift = int(input(\"Shift = \"))\n",
    "encrypted_message = \"\"\n",
    "for char in message:\n",
    "    if 'A' <= char <= 'Z':        \n",
    "        encrypted_char = chr((ord(char) - ord('A') + shift) % 26 + ord('A'))\n",
    "        encrypted_message += encrypted_char\n",
    "    else:\n",
    "        encrypted_message += char\n",
    "print(\"Encrypted Message:\", encrypted_message)\n"
   ]
  },
  {
   "cell_type": "code",
   "execution_count": null,
   "id": "8f680076",
   "metadata": {},
   "outputs": [],
   "source": []
  }
 ],
 "metadata": {
  "kernelspec": {
   "display_name": "venv",
   "language": "python",
   "name": "python3"
  },
  "language_info": {
   "codemirror_mode": {
    "name": "ipython",
    "version": 3
   },
   "file_extension": ".py",
   "mimetype": "text/x-python",
   "name": "python",
   "nbconvert_exporter": "python",
   "pygments_lexer": "ipython3",
   "version": "3.11.0"
  }
 },
 "nbformat": 4,
 "nbformat_minor": 5
}
